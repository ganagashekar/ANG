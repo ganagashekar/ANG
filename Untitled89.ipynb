{
  "nbformat": 4,
  "nbformat_minor": 0,
  "metadata": {
    "colab": {
      "provenance": []
    },
    "kernelspec": {
      "name": "python3",
      "display_name": "Python 3"
    },
    "language_info": {
      "name": "python"
    }
  },
  "cells": [
    {
      "cell_type": "code",
      "execution_count": null,
      "metadata": {
        "id": "R95XgXoQfXJN"
      },
      "outputs": [],
      "source": [
        "import React, { useEffect, useState } from \"react\";\n",
        "import \"./StepProgress.css\";\n",
        "\n",
        "function StepProgress() {\n",
        "  const [steps, setSteps] = useState([]);\n",
        "\n",
        "  useEffect(() => {\n",
        "    const fetchStatus = () => {\n",
        "      fetch(\"/status.json\")\n",
        "        .then((res) => res.json())\n",
        "        .then((data) => {\n",
        "          if (Array.isArray(data.steps)) {\n",
        "            setSteps(data.steps);\n",
        "          }\n",
        "        })\n",
        "        .catch((err) => console.error(\"Error:\", err));\n",
        "    };\n",
        "\n",
        "    fetchStatus();\n",
        "    const interval = setInterval(fetchStatus, 2000);\n",
        "    return () => clearInterval(interval);\n",
        "  }, []);\n",
        "\n",
        "  return (\n",
        "    <div className=\"steps-container\">\n",
        "      {steps.map((step) => (\n",
        "        <div className=\"step\" key={step.id}>\n",
        "          {step.status === \"executed\" ? (\n",
        "            <span className=\"status-icon success\">✔️</span>\n",
        "          ) : step.status === \"in_progress\" ? (\n",
        "            <span className=\"status-icon spinner\"></span>\n",
        "          ) : (\n",
        "            <span className=\"status-icon\">⏳</span>\n",
        "          )}\n",
        "          <span className=\"step-text\">{step.name}</span>\n",
        "        </div>\n",
        "      ))}\n",
        "    </div>\n",
        "  );\n",
        "}\n",
        "\n",
        "export default StepProgress;\n"
      ]
    },
    {
      "cell_type": "code",
      "source": [
        "import StepProgress from \"./StepProgress\"; // adjust path as needed\n",
        "\n",
        "function Dashboard() {\n",
        "  return (\n",
        "    <div>\n",
        "      <h2>Dashboard</h2>\n",
        "      <StepProgress />\n",
        "    </div>\n",
        "  );\n",
        "}"
      ],
      "metadata": {
        "id": "l7ZYmRzyfeIF"
      },
      "execution_count": null,
      "outputs": []
    }
  ]
}