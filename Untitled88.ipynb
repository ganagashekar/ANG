{
  "nbformat": 4,
  "nbformat_minor": 0,
  "metadata": {
    "colab": {
      "provenance": []
    },
    "kernelspec": {
      "name": "python3",
      "display_name": "Python 3"
    },
    "language_info": {
      "name": "python"
    }
  },
  "cells": [
    {
      "cell_type": "code",
      "execution_count": null,
      "metadata": {
        "id": "3joiUYmva706"
      },
      "outputs": [],
      "source": [
        "import React, { useEffect, useState } from \"react\";\n",
        "import \"./StepProgress.css\";\n",
        "\n",
        "function StepProgress() {\n",
        "  const [steps, setSteps] = useState([\n",
        "    { id: 1, name: \"Data Loaded\", status: \"waiting\" },\n",
        "    { id: 2, name: \"Processing\", status: \"waiting\" },\n",
        "  ]);\n",
        "\n",
        "  // Simulate API/file fetch every 2s\n",
        "  useEffect(() => {\n",
        "    const interval = setInterval(() => {\n",
        "      fetch(\"/status.json\") // Replace with your API/file path\n",
        "        .then((res) => res.json())\n",
        "        .then((data) => {\n",
        "          setSteps(data.steps);\n",
        "        })\n",
        "        .catch((err) => console.error(\"Error fetching status:\", err));\n",
        "    }, 2000);\n",
        "\n",
        "    return () => clearInterval(interval);\n",
        "  }, []);\n",
        "\n",
        "  return (\n",
        "    <div className=\"steps-container\">\n",
        "      {steps.map((step) => (\n",
        "        <div className=\"step\" key={step.id}>\n",
        "          {step.status === \"executed\" && (\n",
        "            <span className=\"status-icon success\">✔️</span>\n",
        "          )}\n",
        "          {step.status === \"in_progress\" && (\n",
        "            <span className=\"status-icon spinner\"></span>\n",
        "          )}\n",
        "          {step.status === \"waiting\" && (\n",
        "            <span className=\"status-icon\">⏳</span>\n",
        "          )}\n",
        "          <span className=\"step-text\">\n",
        "            Step {step.id}: {step.name}\n",
        "          </span>\n",
        "        </div>\n",
        "      ))}\n",
        "    </div>\n",
        "  );\n",
        "}\n",
        "\n",
        "export default StepProgress;\n"
      ]
    },
    {
      "cell_type": "code",
      "source": [
        ".steps-container {\n",
        "  display: flex;\n",
        "  flex-direction: column;\n",
        "  gap: 12px;\n",
        "  font-family: sans-serif;\n",
        "  padding: 16px;\n",
        "}\n",
        "\n",
        ".step {\n",
        "  display: flex;\n",
        "  align-items: center;\n",
        "  font-size: 18px;\n",
        "}\n",
        "\n",
        ".status-icon {\n",
        "  width: 24px;\n",
        "  height: 24px;\n",
        "  margin-right: 12px;\n",
        "  display: flex;\n",
        "  align-items: center;\n",
        "  justify-content: center;\n",
        "}\n",
        "\n",
        ".success {\n",
        "  color: green;\n",
        "}\n",
        "\n",
        ".spinner {\n",
        "  border: 3px solid #ccc;\n",
        "  border-top: 3px solid #007bff;\n",
        "  border-radius: 50%;\n",
        "  width: 20px;\n",
        "  height: 20px;\n",
        "  animation: spin 1s linear infinite;\n",
        "}\n",
        "\n",
        "@keyframes spin {\n",
        "  0% {\n",
        "    transform: rotate(0deg);\n",
        "  }\n",
        "  100% {\n",
        "    transform: rotate(360deg);\n",
        "  }\n",
        "}\n"
      ],
      "metadata": {
        "id": "6NZmNMF7a-qh"
      },
      "execution_count": null,
      "outputs": []
    },
    {
      "cell_type": "code",
      "source": [
        "{\n",
        "  \"steps\": [\n",
        "    { \"id\": 1, \"name\": \"Data Loaded\", \"status\": \"executed\" },\n",
        "    { \"id\": 2, \"name\": \"Processing\", \"status\": \"in_progress\" }\n",
        "  ]\n",
        "}"
      ],
      "metadata": {
        "id": "d1vYxTzibBlp"
      },
      "execution_count": null,
      "outputs": []
    },
    {
      "cell_type": "code",
      "source": [
        "import React from \"react\";\n",
        "import StepProgress from \"./StepProgress\";\n",
        "\n",
        "function App() {\n",
        "  return (\n",
        "    <div>\n",
        "      <h2>Process Status</h2>\n",
        "      <StepProgress />\n",
        "    </div>\n",
        "  );\n",
        "}\n",
        "\n",
        "export default App;"
      ],
      "metadata": {
        "id": "46XP0nH0bGSa"
      },
      "execution_count": null,
      "outputs": []
    }
  ]
}