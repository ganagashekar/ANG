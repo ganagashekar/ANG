{
  "nbformat": 4,
  "nbformat_minor": 0,
  "metadata": {
    "colab": {
      "provenance": []
    },
    "kernelspec": {
      "name": "python3",
      "display_name": "Python 3"
    },
    "language_info": {
      "name": "python"
    }
  },
  "cells": [
    {
      "cell_type": "code",
      "execution_count": null,
      "metadata": {
        "id": "vAVG21QzdDJ1"
      },
      "outputs": [],
      "source": [
        "import pandas as pd\n",
        "import numpy as np\n",
        "import glob\n",
        "import os\n",
        "\n",
        "# === Load and Combine Tick Data ===\n",
        "folder = \"18-07-2025_0_extracted\"\n",
        "files = glob.glob(os.path.join(folder, \"*.txt\"))\n",
        "\n",
        "columns = [\n",
        "    \"symbol\", \"open\", \"last\", \"high\", \"low\", \"change\", \"bPrice\", \"bQty\", \"sPrice\", \"sQty\",\n",
        "    \"ltq\", \"avgPrice\", \"quotes\", \"ttq\", \"totalBuyQt\", \"totalSellQ\", \"ttv\", \"trend\",\n",
        "    \"lowerCktLm\", \"upperCktLm\", \"ltt\", \"close\", \"exchange\", \"stock_name\", \"VolumeC\", \"OI\",\n",
        "    \"CHNGOI\", \"product_type\", \"expiry_date\", \"strike_price\"\n",
        "]\n",
        "\n",
        "df_list = []\n",
        "for file in files:\n",
        "    df_temp = pd.read_csv(file, header=None, names=columns)\n",
        "    df_list.append(df_temp)\n",
        "\n",
        "df = pd.concat(df_list, ignore_index=True).drop_duplicates()\n",
        "numeric_cols = ['open', 'last', 'high', 'low', 'bPrice', 'sPrice', 'bQty', 'sQty', 'ltq', 'VolumeC']\n",
        "df[numeric_cols] = df[numeric_cols].apply(pd.to_numeric, errors='coerce')\n",
        "\n",
        "# === Tick-based Buy/Sell Pressure ===\n",
        "df['delta_price'] = df['last'].diff()\n",
        "df['buy_volume'] = np.where(df['delta_price'] > 0, df['ltq'], 0)\n",
        "df['sell_volume'] = np.where(df['delta_price'] < 0, df['ltq'], 0)\n",
        "\n",
        "total_buy = df['buy_volume'].sum()\n",
        "total_sell = df['sell_volume'].sum()\n",
        "\n",
        "# === Order Imbalance ===\n",
        "df['order_imbalance'] = (df['bQty'] - df['sQty']) / (df['bQty'] + df['sQty'])\n",
        "net_order_imbalance = df['order_imbalance'].mean()\n",
        "\n",
        "# === Money Flow Index Proxy ===\n",
        "df['typical_price'] = (df['high'] + df['low'] + df['last']) / 3\n",
        "df['money_flow'] = df['typical_price'] * df['VolumeC']\n",
        "df['raw_flow'] = np.where(df['typical_price'] > df['typical_price'].shift(), df['money_flow'], -df['money_flow'])\n",
        "mfi_score = df['raw_flow'].rolling(window=14).sum().iloc[-1]\n",
        "\n",
        "# === Accumulation/Distribution ===\n",
        "df['clv'] = ((df['last'] - df['low']) - (df['high'] - df['last'])) / (df['high'] - df['low'])\n",
        "df['clv'] = df['clv'].fillna(0)\n",
        "df['ad_volume'] = df['clv'] * df['VolumeC']\n",
        "ad_trend = df['ad_volume'].cumsum().iloc[-1]\n",
        "\n",
        "# === Sentiment Decision ===\n",
        "print(\"\\n💰 MONEY FLOW SENTIMENT ANALYSIS:\")\n",
        "print(f\"Total Buy Volume: {total_buy}\")\n",
        "print(f\"Total Sell Volume: {total_sell}\")\n",
        "print(f\"Order Imbalance: {net_order_imbalance:.2f}\")\n",
        "print(f\"MFI Score (14-tick): {mfi_score:.2f}\")\n",
        "print(f\"Accumulation Trend: {ad_trend:.2f}\")\n",
        "\n",
        "if total_buy > total_sell and net_order_imbalance > 0.3 and mfi_score > 0:\n",
        "    print(\"📈 Money Flow Sentiment: STRONG BUYING\")\n",
        "elif total_sell > total_buy and net_order_imbalance < -0.3 and mfi_score < 0:\n",
        "    print(\"📉 Money Flow Sentiment: STRONG SELLING\")\n",
        "else:\n",
        "    print(\"⚖️ Money Flow Sentiment: NEUTRAL / MIXED\")\n"
      ]
    }
  ]
}